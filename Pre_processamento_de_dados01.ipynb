{
  "nbformat": 4,
  "nbformat_minor": 0,
  "metadata": {
    "colab": {
      "name": "Pre processamento de dados01",
      "provenance": [],
      "authorship_tag": "ABX9TyPTAFAmVM7m5NzfQzF9SK31",
      "include_colab_link": true
    },
    "kernelspec": {
      "name": "python3",
      "display_name": "Python 3"
    },
    "language_info": {
      "name": "python"
    }
  },
  "cells": [
    {
      "cell_type": "markdown",
      "metadata": {
        "id": "view-in-github",
        "colab_type": "text"
      },
      "source": [
        "<a href=\"https://colab.research.google.com/github/alexsander020/Exercicios-de-IA/blob/main/Pre_processamento_de_dados01.ipynb\" target=\"_parent\"><img src=\"https://colab.research.google.com/assets/colab-badge.svg\" alt=\"Open In Colab\"/></a>"
      ]
    },
    {
      "cell_type": "code",
      "metadata": {
        "id": "K4ZrX8lwPOH4"
      },
      "source": [
        "import pandas as pd"
      ],
      "execution_count": 1,
      "outputs": []
    },
    {
      "cell_type": "code",
      "metadata": {
        "id": "0ss-wsxYPwvJ"
      },
      "source": [
        "dic = {\"Nome\" : [\"Isa\", \"Peter\", \"Antonio\"],\n",
        "       \"Idade\" : [\"19\", \"28\", \"35\"],\n",
        "       \"Salario\" : [\"19000\", \"5000\", \"19000\"],\n",
        "       \"Gênero\" : [\" F \", \" M \", \" M \"],\n",
        "       \"Cargo\" : [\"Gerente\", \" Supervisor \", \" Programador \"]\n",
        "    \n",
        "}"
      ],
      "execution_count": 2,
      "outputs": []
    },
    {
      "cell_type": "code",
      "metadata": {
        "colab": {
          "base_uri": "https://localhost:8080/",
          "height": 142
        },
        "id": "AE7vYGBeSjDP",
        "outputId": "dc67fe7f-9103-4c6b-a5f9-9a8d19ba86b9"
      },
      "source": [
        "df = pd.DataFrame(dic)\n",
        "df"
      ],
      "execution_count": 3,
      "outputs": [
        {
          "output_type": "execute_result",
          "data": {
            "text/html": [
              "<div>\n",
              "<style scoped>\n",
              "    .dataframe tbody tr th:only-of-type {\n",
              "        vertical-align: middle;\n",
              "    }\n",
              "\n",
              "    .dataframe tbody tr th {\n",
              "        vertical-align: top;\n",
              "    }\n",
              "\n",
              "    .dataframe thead th {\n",
              "        text-align: right;\n",
              "    }\n",
              "</style>\n",
              "<table border=\"1\" class=\"dataframe\">\n",
              "  <thead>\n",
              "    <tr style=\"text-align: right;\">\n",
              "      <th></th>\n",
              "      <th>Nome</th>\n",
              "      <th>Idade</th>\n",
              "      <th>Salario</th>\n",
              "      <th>Gênero</th>\n",
              "      <th>Cargo</th>\n",
              "    </tr>\n",
              "  </thead>\n",
              "  <tbody>\n",
              "    <tr>\n",
              "      <th>0</th>\n",
              "      <td>Isa</td>\n",
              "      <td>19</td>\n",
              "      <td>19000</td>\n",
              "      <td>F</td>\n",
              "      <td>Gerente</td>\n",
              "    </tr>\n",
              "    <tr>\n",
              "      <th>1</th>\n",
              "      <td>Peter</td>\n",
              "      <td>28</td>\n",
              "      <td>5000</td>\n",
              "      <td>M</td>\n",
              "      <td>Supervisor</td>\n",
              "    </tr>\n",
              "    <tr>\n",
              "      <th>2</th>\n",
              "      <td>Antonio</td>\n",
              "      <td>35</td>\n",
              "      <td>19000</td>\n",
              "      <td>M</td>\n",
              "      <td>Programador</td>\n",
              "    </tr>\n",
              "  </tbody>\n",
              "</table>\n",
              "</div>"
            ],
            "text/plain": [
              "      Nome Idade Salario Gênero          Cargo\n",
              "0      Isa    19   19000     F         Gerente\n",
              "1    Peter    28    5000     M     Supervisor \n",
              "2  Antonio    35   19000     M    Programador "
            ]
          },
          "metadata": {},
          "execution_count": 3
        }
      ]
    },
    {
      "cell_type": "code",
      "metadata": {
        "colab": {
          "base_uri": "https://localhost:8080/"
        },
        "id": "H4KC2syfSyJH",
        "outputId": "f0af0e30-8431-44db-88ff-e6d5eea100fe"
      },
      "source": [
        "print(df)"
      ],
      "execution_count": 4,
      "outputs": [
        {
          "output_type": "stream",
          "name": "stdout",
          "text": [
            "      Nome Idade Salario Gênero          Cargo\n",
            "0      Isa    19   19000     F         Gerente\n",
            "1    Peter    28    5000     M     Supervisor \n",
            "2  Antonio    35   19000     M    Programador \n"
          ]
        }
      ]
    },
    {
      "cell_type": "code",
      "metadata": {
        "colab": {
          "base_uri": "https://localhost:8080/"
        },
        "id": "WqUR3xgzTH3b",
        "outputId": "031d1543-a6f5-473d-f476-a059f1973c40"
      },
      "source": [
        "df.info"
      ],
      "execution_count": 5,
      "outputs": [
        {
          "output_type": "execute_result",
          "data": {
            "text/plain": [
              "<bound method DataFrame.info of       Nome Idade Salario Gênero          Cargo\n",
              "0      Isa    19   19000     F         Gerente\n",
              "1    Peter    28    5000     M     Supervisor \n",
              "2  Antonio    35   19000     M    Programador >"
            ]
          },
          "metadata": {},
          "execution_count": 5
        }
      ]
    },
    {
      "cell_type": "code",
      "metadata": {
        "id": "XzDGPL5PToZY"
      },
      "source": [
        "df = pd.get_dummies(df, columns=[\"Gênero\"])"
      ],
      "execution_count": 7,
      "outputs": []
    },
    {
      "cell_type": "code",
      "metadata": {
        "colab": {
          "base_uri": "https://localhost:8080/",
          "height": 142
        },
        "id": "vM3esvJGUGs4",
        "outputId": "f7364b10-34ac-4ac5-da48-0e30c634367f"
      },
      "source": [
        "df"
      ],
      "execution_count": 8,
      "outputs": [
        {
          "output_type": "execute_result",
          "data": {
            "text/html": [
              "<div>\n",
              "<style scoped>\n",
              "    .dataframe tbody tr th:only-of-type {\n",
              "        vertical-align: middle;\n",
              "    }\n",
              "\n",
              "    .dataframe tbody tr th {\n",
              "        vertical-align: top;\n",
              "    }\n",
              "\n",
              "    .dataframe thead th {\n",
              "        text-align: right;\n",
              "    }\n",
              "</style>\n",
              "<table border=\"1\" class=\"dataframe\">\n",
              "  <thead>\n",
              "    <tr style=\"text-align: right;\">\n",
              "      <th></th>\n",
              "      <th>Nome</th>\n",
              "      <th>Idade</th>\n",
              "      <th>Salario</th>\n",
              "      <th>Cargo</th>\n",
              "      <th>Gênero_ F</th>\n",
              "      <th>Gênero_ M</th>\n",
              "    </tr>\n",
              "  </thead>\n",
              "  <tbody>\n",
              "    <tr>\n",
              "      <th>0</th>\n",
              "      <td>Isa</td>\n",
              "      <td>19</td>\n",
              "      <td>19000</td>\n",
              "      <td>Gerente</td>\n",
              "      <td>1</td>\n",
              "      <td>0</td>\n",
              "    </tr>\n",
              "    <tr>\n",
              "      <th>1</th>\n",
              "      <td>Peter</td>\n",
              "      <td>28</td>\n",
              "      <td>5000</td>\n",
              "      <td>Supervisor</td>\n",
              "      <td>0</td>\n",
              "      <td>1</td>\n",
              "    </tr>\n",
              "    <tr>\n",
              "      <th>2</th>\n",
              "      <td>Antonio</td>\n",
              "      <td>35</td>\n",
              "      <td>19000</td>\n",
              "      <td>Programador</td>\n",
              "      <td>0</td>\n",
              "      <td>1</td>\n",
              "    </tr>\n",
              "  </tbody>\n",
              "</table>\n",
              "</div>"
            ],
            "text/plain": [
              "      Nome Idade Salario          Cargo  Gênero_ F   Gênero_ M \n",
              "0      Isa    19   19000        Gerente           1           0\n",
              "1    Peter    28    5000    Supervisor            0           1\n",
              "2  Antonio    35   19000   Programador            0           1"
            ]
          },
          "metadata": {},
          "execution_count": 8
        }
      ]
    },
    {
      "cell_type": "code",
      "metadata": {
        "colab": {
          "base_uri": "https://localhost:8080/",
          "height": 142
        },
        "id": "33bUmJlLUoJ5",
        "outputId": "1905eeae-140f-4c95-a6df-7dbf826fadf3"
      },
      "source": [
        "df = df.drop( columns = [\"Cargo\"])\n",
        "df"
      ],
      "execution_count": 10,
      "outputs": [
        {
          "output_type": "execute_result",
          "data": {
            "text/html": [
              "<div>\n",
              "<style scoped>\n",
              "    .dataframe tbody tr th:only-of-type {\n",
              "        vertical-align: middle;\n",
              "    }\n",
              "\n",
              "    .dataframe tbody tr th {\n",
              "        vertical-align: top;\n",
              "    }\n",
              "\n",
              "    .dataframe thead th {\n",
              "        text-align: right;\n",
              "    }\n",
              "</style>\n",
              "<table border=\"1\" class=\"dataframe\">\n",
              "  <thead>\n",
              "    <tr style=\"text-align: right;\">\n",
              "      <th></th>\n",
              "      <th>Nome</th>\n",
              "      <th>Idade</th>\n",
              "      <th>Salario</th>\n",
              "      <th>Gênero_ F</th>\n",
              "      <th>Gênero_ M</th>\n",
              "    </tr>\n",
              "  </thead>\n",
              "  <tbody>\n",
              "    <tr>\n",
              "      <th>0</th>\n",
              "      <td>Isa</td>\n",
              "      <td>19</td>\n",
              "      <td>19000</td>\n",
              "      <td>1</td>\n",
              "      <td>0</td>\n",
              "    </tr>\n",
              "    <tr>\n",
              "      <th>1</th>\n",
              "      <td>Peter</td>\n",
              "      <td>28</td>\n",
              "      <td>5000</td>\n",
              "      <td>0</td>\n",
              "      <td>1</td>\n",
              "    </tr>\n",
              "    <tr>\n",
              "      <th>2</th>\n",
              "      <td>Antonio</td>\n",
              "      <td>35</td>\n",
              "      <td>19000</td>\n",
              "      <td>0</td>\n",
              "      <td>1</td>\n",
              "    </tr>\n",
              "  </tbody>\n",
              "</table>\n",
              "</div>"
            ],
            "text/plain": [
              "      Nome Idade Salario  Gênero_ F   Gênero_ M \n",
              "0      Isa    19   19000           1           0\n",
              "1    Peter    28    5000           0           1\n",
              "2  Antonio    35   19000           0           1"
            ]
          },
          "metadata": {},
          "execution_count": 10
        }
      ]
    },
    {
      "cell_type": "code",
      "metadata": {
        "id": "pVNPpkB6VNXW"
      },
      "source": [
        ""
      ],
      "execution_count": null,
      "outputs": []
    }
  ]
}